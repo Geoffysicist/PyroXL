{
 "cells": [
  {
   "cell_type": "code",
   "execution_count": 2,
   "metadata": {},
   "outputs": [],
   "source": [
    "import pandas as pd\n",
    "from datetime import date"
   ]
  },
  {
   "cell_type": "markdown",
   "metadata": {},
   "source": [
    "Forest model"
   ]
  },
  {
   "cell_type": "code",
   "execution_count": 8,
   "metadata": {},
   "outputs": [],
   "source": [
    "from spread_models import dry_forest\n",
    "forest_params = {\n",
    "    # time\n",
    "    'months': (6,12),\n",
    "    'hours': (9,16),\n",
    "    # weather\n",
    "    'T_SFC': (25,35),\n",
    "    'RH_SFC': (30,10),\n",
    "    'WindMagKmh_SFC': (20,30),\n",
    "    'DF_SFC': (8,10),\n",
    "    'KBDI_SFC': (100,150),\n",
    "    # fuel\n",
    "    'FHS_s': 3,\n",
    "    'FHS_ns': 3,\n",
    "    'FL_s': 10,\n",
    "    'FL_ns': 3.5,\n",
    "    'FL_el': 2,\n",
    "    'FL_o': 4.5,\n",
    "    'H_ns': 20,\n",
    "    'H_el': 2,\n",
    "    'H_o': 10,\n",
    "    'WRF_For': 3,\n",
    "}"
   ]
  },
  {
   "cell_type": "code",
   "execution_count": 6,
   "metadata": {},
   "outputs": [
    {
     "data": {
      "text/html": [
       "<div>\n",
       "<style scoped>\n",
       "    .dataframe tbody tr th:only-of-type {\n",
       "        vertical-align: middle;\n",
       "    }\n",
       "\n",
       "    .dataframe tbody tr th {\n",
       "        vertical-align: top;\n",
       "    }\n",
       "\n",
       "    .dataframe thead th {\n",
       "        text-align: right;\n",
       "    }\n",
       "</style>\n",
       "<table border=\"1\" class=\"dataframe\">\n",
       "  <thead>\n",
       "    <tr style=\"text-align: right;\">\n",
       "      <th></th>\n",
       "      <th>months</th>\n",
       "      <th>hours</th>\n",
       "      <th>T_SFC</th>\n",
       "      <th>RH_SFC</th>\n",
       "      <th>WindMagKmh_SFC</th>\n",
       "      <th>DF_SFC</th>\n",
       "      <th>KBDI_SFC</th>\n",
       "      <th>FHS_s</th>\n",
       "      <th>FHS_ns</th>\n",
       "      <th>FL_s</th>\n",
       "      <th>FL_ns</th>\n",
       "      <th>FL_el</th>\n",
       "      <th>FL_o</th>\n",
       "      <th>H_ns</th>\n",
       "      <th>H_el</th>\n",
       "      <th>H_o</th>\n",
       "      <th>WRF_For</th>\n",
       "    </tr>\n",
       "  </thead>\n",
       "  <tbody>\n",
       "    <tr>\n",
       "      <th>0</th>\n",
       "      <td>6</td>\n",
       "      <td>12</td>\n",
       "      <td>25</td>\n",
       "      <td>30</td>\n",
       "      <td>20</td>\n",
       "      <td>8</td>\n",
       "      <td>100</td>\n",
       "      <td>3</td>\n",
       "      <td>3</td>\n",
       "      <td>10</td>\n",
       "      <td>3.5</td>\n",
       "      <td>2</td>\n",
       "      <td>4.5</td>\n",
       "      <td>20</td>\n",
       "      <td>2</td>\n",
       "      <td>10</td>\n",
       "      <td>3</td>\n",
       "    </tr>\n",
       "    <tr>\n",
       "      <th>1</th>\n",
       "      <td>12</td>\n",
       "      <td>16</td>\n",
       "      <td>35</td>\n",
       "      <td>10</td>\n",
       "      <td>30</td>\n",
       "      <td>8</td>\n",
       "      <td>100</td>\n",
       "      <td>3</td>\n",
       "      <td>3</td>\n",
       "      <td>10</td>\n",
       "      <td>3.5</td>\n",
       "      <td>2</td>\n",
       "      <td>4.5</td>\n",
       "      <td>20</td>\n",
       "      <td>2</td>\n",
       "      <td>10</td>\n",
       "      <td>3</td>\n",
       "    </tr>\n",
       "  </tbody>\n",
       "</table>\n",
       "</div>"
      ],
      "text/plain": [
       "   months  hours  T_SFC  RH_SFC  WindMagKmh_SFC  DF_SFC  KBDI_SFC  FHS_s  \\\n",
       "0       6     12     25      30              20       8       100      3   \n",
       "1      12     16     35      10              30       8       100      3   \n",
       "\n",
       "   FHS_ns  FL_s  FL_ns  FL_el  FL_o  H_ns  H_el  H_o  WRF_For  \n",
       "0       3    10    3.5      2   4.5    20     2   10        3  \n",
       "1       3    10    3.5      2   4.5    20     2   10        3  "
      ]
     },
     "execution_count": 6,
     "metadata": {},
     "output_type": "execute_result"
    }
   ],
   "source": [
    "df = pd.DataFrame(forest_params)\n",
    "df"
   ]
  },
  {
   "cell_type": "code",
   "execution_count": 9,
   "metadata": {},
   "outputs": [
    {
     "data": {
      "text/plain": [
       "0    7.5450\n",
       "1    3.3455\n",
       "Name: fmc, dtype: float64"
      ]
     },
     "execution_count": 9,
     "metadata": {},
     "output_type": "execute_result"
    }
   ],
   "source": [
    "df['fmc'] = dry_forest.fuel_moisture_model(\n",
    "    df['T_SFC'], df['RH_SFC'],(df['months'], df['hours'])\n",
    ")\n",
    "df['fmc']"
   ]
  },
  {
   "cell_type": "code",
   "execution_count": null,
   "metadata": {},
   "outputs": [],
   "source": [
    "df['ROS'] = dry_forest.calc_rate_of_spread(\n",
    "  df.fmc, df.WindMagKmh_SFC, df.DF_SFC, df \n",
    ")"
   ]
  }
 ],
 "metadata": {
  "kernelspec": {
   "display_name": "Python 3.10.0 ('afdrs_310')",
   "language": "python",
   "name": "python3"
  },
  "language_info": {
   "codemirror_mode": {
    "name": "ipython",
    "version": 3
   },
   "file_extension": ".py",
   "mimetype": "text/x-python",
   "name": "python",
   "nbconvert_exporter": "python",
   "pygments_lexer": "ipython3",
   "version": "3.10.0"
  },
  "orig_nbformat": 4,
  "vscode": {
   "interpreter": {
    "hash": "9569022055b72f7665cec01ea3eda5c4ffee35d95dc414f15c65d6c4ee34732a"
   }
  }
 },
 "nbformat": 4,
 "nbformat_minor": 2
}
