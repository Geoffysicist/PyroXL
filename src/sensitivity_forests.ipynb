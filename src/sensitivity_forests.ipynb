{
 "cells": [
  {
   "cell_type": "code",
   "execution_count": 2,
   "metadata": {},
   "outputs": [],
   "source": [
    "from spread_models import dry_forest\n",
    "import test_data_generator as tdg\n",
    "import pandas as pd"
   ]
  },
  {
   "cell_type": "code",
   "execution_count": 3,
   "metadata": {},
   "outputs": [],
   "source": [
    "# setup the defualt inputs\n",
    "fuel_params_dict = {\n",
    "    'FHS_s': 3,\n",
    "    'FHS_ns': 3,\n",
    "    'FL_s': 10,\n",
    "    'FL_ns': 3.5,\n",
    "    'FL_el': 2,\n",
    "    'FL_b': 2,\n",
    "    'FL_o': 4.5,\n",
    "    # 'FL_total': 12,\n",
    "    'Fk_s': 0.3,\n",
    "    'Fk_ns': 0.3,\n",
    "    'Fk_el': 0.3,\n",
    "    'Fk_b': 0.3,\n",
    "    # 'Fk_o': 0.3,\n",
    "    'Hk_ns': 0.3,\n",
    "    # 'Cov_o': 40,\n",
    "    'H_ns': 20,\n",
    "    'H_el': 2,\n",
    "    'H_o': 20,\n",
    "    'WRF_For': 3,\n",
    "}\n",
    "\n",
    "fuel_params_df = pd.DataFrame(fuel_params_dict, index=[0])\n",
    "\n",
    "datetime_param_dict = {\n",
    "    'datetime': ('2022-01-01', '2022-09-01', 90, 6),\n",
    "}\n",
    "\n",
    "num_param_dict = {\n",
    "    'WindMagKmh_SFC': (10,50,20),\n",
    "    'RH_SFC': (10,100,50),\n",
    "    'T_SFC': (10,40,15),\n",
    "    # 'precipitation': (0,100,50),\n",
    "    # 'time_since_rain': (0,48,24),\n",
    "    'time_since_fire': (0,15,7.5),\n",
    "    'DF_SFC': (2,10,4),\n",
    "}\n",
    "\n",
    "class_param_dict = {}\n",
    "\n",
    "df = tdg.generate_test_data(datetime_param_dict,num_param_dict,class_param_dict)\n",
    "df['months'] = df.datetime.dt.month\n",
    "df['hours'] = df.datetime.dt.hour\n"
   ]
  },
  {
   "cell_type": "code",
   "execution_count": 4,
   "metadata": {},
   "outputs": [
    {
     "name": "stdout",
     "output_type": "stream",
     "text": [
      "    datetime  WindMagKmh_SFC  RH_SFC  T_SFC  time_since_fire  DF_SFC  months  \\\n",
      "0 2022-01-01            10.0    10.0   10.0              0.0     2.0       1   \n",
      "1 2022-01-01            10.0    10.0   10.0              0.0     6.0       1   \n",
      "2 2022-01-01            10.0    10.0   10.0              0.0    10.0       1   \n",
      "3 2022-01-01            10.0    10.0   10.0              7.5     2.0       1   \n",
      "4 2022-01-01            10.0    10.0   10.0              7.5     6.0       1   \n",
      "\n",
      "   hours  dead_fuel_moisture  rate_of_spread  flame_height   intensity  \\\n",
      "0      0               4.577       56.648558      1.375288    0.000000   \n",
      "1      0               4.577       56.648558      1.375288    0.000000   \n",
      "2      0               4.577       56.648558      1.375288    0.000000   \n",
      "3      0               4.577       84.660937      1.838878  121.306613   \n",
      "4      0               4.577      213.271674      3.586383  916.760387   \n",
      "\n",
      "   spotting_distance  rating_1  index_1  \n",
      "0          50.000000       0.0      0.0  \n",
      "1          50.000000       0.0      0.0  \n",
      "2          50.000000       0.0      0.0  \n",
      "3          50.000000       0.0      6.0  \n",
      "4         196.233631       1.0     12.0  \n",
      "(3888, 15)\n"
     ]
    }
   ],
   "source": [
    "# generate outputs\n",
    "output_dict =dry_forest.calculate(df.to_xarray(),fuel_params_df.iloc[0])\n",
    "\n",
    "for param, series in output_dict.items():\n",
    "    df[param] = series\n",
    "\n",
    "print(df.head())\n",
    "print(df.shape)"
   ]
  },
  {
   "cell_type": "code",
   "execution_count": 17,
   "metadata": {},
   "outputs": [
    {
     "name": "stdout",
     "output_type": "stream",
     "text": [
      "[{'dead_fuel_moisture': array([ 4.577,  4.577,  4.577, ..., 20.39 , 20.39 , 20.39 ]), 'rate_of_spread': array([56.64855799, 56.64855799, 56.64855799, ...,  7.58830668,\n",
      "       35.54100631, 77.28318018]), 'flame_height': array([1.37528773, 1.37528773, 1.37528773, ..., 0.32150133, 0.98178323,\n",
      "       1.72156517]), 'intensity': <xarray.DataArray (index: 3888)>\n",
      "array([  0.        ,   0.        ,   0.        , ...,  10.46809144,\n",
      "       147.08676914, 612.0340048 ])\n",
      "Coordinates:\n",
      "  * index    (index) int64 0 1 2 3 4 5 6 ... 3881 3882 3883 3884 3885 3886 3887, 'spotting_distance': <xarray.DataArray 'WindMagKmh_SFC' (index: 3888)>\n",
      "array([50., 50., 50., ..., 50., 50., 50.])\n",
      "Coordinates:\n",
      "  * index    (index) int64 0 1 2 3 4 5 6 ... 3881 3882 3883 3884 3885 3886 3887, 'rating_1': array([0., 0., 0., ..., 0., 0., 0.]), 'index_1': array([ 0.,  0.,  0., ...,  0.,  6., 10.])}, {'dead_fuel_moisture': array([ 4.577,  4.577,  4.577, ..., 20.39 , 20.39 , 20.39 ]), 'rate_of_spread': array([56.64855799, 56.64855799, 56.64855799, ...,  7.58830668,\n",
      "       35.54100631, 77.28318018]), 'flame_height': array([1.37528773, 1.37528773, 1.37528773, ..., 0.32150133, 0.98178323,\n",
      "       1.72156517]), 'intensity': <xarray.DataArray (index: 3888)>\n",
      "array([  0.        ,   0.        ,   0.        , ...,  12.01891981,\n",
      "       168.87740161, 616.46978747])\n",
      "Coordinates:\n",
      "  * index    (index) int64 0 1 2 3 4 5 6 ... 3881 3882 3883 3884 3885 3886 3887, 'spotting_distance': <xarray.DataArray 'WindMagKmh_SFC' (index: 3888)>\n",
      "array([50., 50., 50., ..., 50., 50., 50.])\n",
      "Coordinates:\n",
      "  * index    (index) int64 0 1 2 3 4 5 6 ... 3881 3882 3883 3884 3885 3886 3887, 'rating_1': array([0., 0., 0., ..., 0., 0., 0.]), 'index_1': array([ 0.,  0.,  0., ...,  0.,  6., 10.])}]\n"
     ]
    }
   ],
   "source": [
    "# sensitivity to surface fuel load 0 - 2- step of 2\n",
    "fuel_params_dict_list = []\n",
    "for fl_s in range(10,13,2):\n",
    "    d = dict(fuel_params_dict)\n",
    "    # d = d.update(fuel_params_dict)\n",
    "    d['FL_s'] = fl_s\n",
    "    fuel_params_dict_list.append(d)\n",
    "\n",
    "fuel_params_df = pd.DataFrame(fuel_params_dict_list)\n",
    "\n",
    "output_dict_list = []\n",
    "for i, row in fuel_params_df.iterrows():\n",
    "    od = dry_forest.calculate(df.to_xarray(),row)\n",
    "    output_dict_list.append(od)\n",
    "\n",
    "print(output_dict_list)\n"
   ]
  }
 ],
 "metadata": {
  "kernelspec": {
   "display_name": "Python 3.10.0 ('afdrs_310')",
   "language": "python",
   "name": "python3"
  },
  "language_info": {
   "codemirror_mode": {
    "name": "ipython",
    "version": 3
   },
   "file_extension": ".py",
   "mimetype": "text/x-python",
   "name": "python",
   "nbconvert_exporter": "python",
   "pygments_lexer": "ipython3",
   "version": "3.10.0"
  },
  "orig_nbformat": 4,
  "vscode": {
   "interpreter": {
    "hash": "9569022055b72f7665cec01ea3eda5c4ffee35d95dc414f15c65d6c4ee34732a"
   }
  }
 },
 "nbformat": 4,
 "nbformat_minor": 2
}
